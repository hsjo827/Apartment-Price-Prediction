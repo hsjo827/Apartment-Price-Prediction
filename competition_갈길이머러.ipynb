{
 "cells": [
  {
   "cell_type": "code",
   "execution_count": 1,
   "metadata": {},
   "outputs": [],
   "source": [
    "%matplotlib inline\n",
    "import warnings\n",
    "warnings.filterwarnings(\"ignore\")\n",
    "\n",
    "import pandas as pd \n",
    "import matplotlib.pyplot as plt \n",
    "import seaborn as sns \n",
    "import numpy as np\n",
    "from sklearn.pipeline import Pipeline\n",
    "from sklearn.compose import ColumnTransformer\n",
    "from sklearn.preprocessing import FunctionTransformer\n",
    "from sklearn.base import BaseEstimator, TransformerMixin\n",
    "from sklearn.impute import SimpleImputer\n",
    "from sklearn.experimental import enable_iterative_imputer   \n",
    "from sklearn.impute import IterativeImputer\n",
    "from sklearn.preprocessing import StandardScaler, PowerTransformer \n",
    "from sklearn.preprocessing import OrdinalEncoder, OneHotEncoder\n",
    "from category_encoders import TargetEncoder  \n",
    "from sklearn.decomposition import PCA\n",
    "from sklearn.feature_selection import SelectKBest, SelectPercentile\n",
    "from sklearn.linear_model import LogisticRegression\n",
    "from sklearn.model_selection import train_test_split, GridSearchCV\n",
    "from sklearn.metrics import roc_auc_score\n",
    "from sklearn import set_config\n",
    "import optuna\n",
    "import category_encoders as ce"
   ]
  },
  {
   "cell_type": "markdown",
   "metadata": {},
   "source": [
    "# 사전 데이터 작업"
   ]
  },
  {
   "cell_type": "markdown",
   "metadata": {},
   "source": [
    "### interest_rate\n",
    "-한국은행 기준 금리 feature"
   ]
  },
  {
   "cell_type": "markdown",
   "metadata": {},
   "source": [
    "- 사전 작업이라 주석 처리하겠습니다"
   ]
  },
  {
   "cell_type": "code",
   "execution_count": 124,
   "metadata": {},
   "outputs": [],
   "source": [
    "'''\n",
    "train=pd.read_csv(\"train.csv\", encoding='utf-8') \n",
    "test =pd.read_csv(\"test.csv\", encoding='utf-8')\n",
    "\n",
    "# 한국은행 기준 금리 데이터\n",
    "interest_rate = pd.read_csv('interest_rate.csv', encoding='utf-8')\n",
    "'''"
   ]
  },
  {
   "cell_type": "code",
   "execution_count": 125,
   "metadata": {},
   "outputs": [],
   "source": [
    "'''\n",
    "train['day'] = train.transaction_date.apply(lambda x: x[-2:])\n",
    "test['day'] = test.transaction_date.apply(lambda x: x[-2:])\n",
    "\n",
    "def preprocess_date(x):\n",
    "    if type(x) == int:\n",
    "        if x < 10:\n",
    "            return '0'+str(x)\n",
    "        else:\n",
    "            return str(x)\n",
    "    else:\n",
    "        return x\n",
    "    \n",
    "train['day'] = train['day'].apply(preprocess_date)\n",
    "test['day'] = test['day'].apply(preprocess_date)\n",
    "'''\n"
   ]
  },
  {
   "cell_type": "code",
   "execution_count": 126,
   "metadata": {},
   "outputs": [],
   "source": [
    "'''\n",
    "train['transaction_date2'] = train['transaction_year_month'].astype(int).astype(str) + train['day'].astype(str)\n",
    "train['transaction_date2'] = pd.to_datetime(train['transaction_date2'])\n",
    "\n",
    "test['transaction_date2'] = test['transaction_year_month'].astype(int).astype(str) + test['day'].astype(str)\n",
    "test['transaction_date2'] = pd.to_datetime(test['transaction_date2'])\n",
    "\n",
    "train['transaction_year'] = train['transaction_date2'].dt.year\n",
    "train['transaction_month'] = train['transaction_date2'].dt.month\n",
    "\n",
    "test['transaction_year'] = test['transaction_date2'].dt.year\n",
    "test['transaction_month'] = test['transaction_date2'].dt.month\n",
    "'''"
   ]
  },
  {
   "cell_type": "code",
   "execution_count": 127,
   "metadata": {},
   "outputs": [],
   "source": [
    "'''\n",
    "def make_date(row):\n",
    "    month_day = row['월일'].replace('월 ', '-')\n",
    "    month_day = month_day.replace('일', '')\n",
    "    date = str(row['연도'])+ '-' + month_day\n",
    "    return date\n",
    "\n",
    "interest_rate['날짜'] = interest_rate.apply(lambda x: make_date(x), axis=1)\n",
    "interest_rate['날짜'] = pd.to_datetime(interest_rate['날짜'])\n",
    "'''"
   ]
  },
  {
   "cell_type": "code",
   "execution_count": 128,
   "metadata": {},
   "outputs": [
    {
     "data": {
      "text/html": [
       "<div>\n",
       "<style scoped>\n",
       "    .dataframe tbody tr th:only-of-type {\n",
       "        vertical-align: middle;\n",
       "    }\n",
       "\n",
       "    .dataframe tbody tr th {\n",
       "        vertical-align: top;\n",
       "    }\n",
       "\n",
       "    .dataframe thead th {\n",
       "        text-align: right;\n",
       "    }\n",
       "</style>\n",
       "<table border=\"1\" class=\"dataframe\">\n",
       "  <thead>\n",
       "    <tr style=\"text-align: right;\">\n",
       "      <th></th>\n",
       "      <th>날짜</th>\n",
       "      <th>year</th>\n",
       "      <th>month</th>\n",
       "      <th>day</th>\n",
       "      <th>금리</th>\n",
       "    </tr>\n",
       "  </thead>\n",
       "  <tbody>\n",
       "    <tr>\n",
       "      <th>0</th>\n",
       "      <td>2023-01-13</td>\n",
       "      <td>2023</td>\n",
       "      <td>1</td>\n",
       "      <td>13</td>\n",
       "      <td>3.50</td>\n",
       "    </tr>\n",
       "    <tr>\n",
       "      <th>1</th>\n",
       "      <td>2022-11-24</td>\n",
       "      <td>2022</td>\n",
       "      <td>11</td>\n",
       "      <td>24</td>\n",
       "      <td>3.25</td>\n",
       "    </tr>\n",
       "    <tr>\n",
       "      <th>2</th>\n",
       "      <td>2022-10-12</td>\n",
       "      <td>2022</td>\n",
       "      <td>10</td>\n",
       "      <td>12</td>\n",
       "      <td>3.00</td>\n",
       "    </tr>\n",
       "    <tr>\n",
       "      <th>3</th>\n",
       "      <td>2022-08-25</td>\n",
       "      <td>2022</td>\n",
       "      <td>8</td>\n",
       "      <td>25</td>\n",
       "      <td>2.50</td>\n",
       "    </tr>\n",
       "    <tr>\n",
       "      <th>4</th>\n",
       "      <td>2022-07-13</td>\n",
       "      <td>2022</td>\n",
       "      <td>7</td>\n",
       "      <td>13</td>\n",
       "      <td>2.25</td>\n",
       "    </tr>\n",
       "  </tbody>\n",
       "</table>\n",
       "</div>"
      ],
      "text/plain": [
       "          날짜  year  month  day    금리\n",
       "0 2023-01-13  2023      1   13  3.50\n",
       "1 2022-11-24  2022     11   24  3.25\n",
       "2 2022-10-12  2022     10   12  3.00\n",
       "3 2022-08-25  2022      8   25  2.50\n",
       "4 2022-07-13  2022      7   13  2.25"
      ]
     },
     "execution_count": 128,
     "metadata": {},
     "output_type": "execute_result"
    }
   ],
   "source": [
    "'''\n",
    "interest_rate['year'] = interest_rate['날짜'].dt.year\n",
    "interest_rate['month'] = interest_rate['날짜'].dt.month\n",
    "interest_rate['day'] = interest_rate['날짜'].dt.day\n",
    "interest_rate = interest_rate[['날짜','year','month','day','금리']]\n",
    "interest_rate = interest_rate[interest_rate['year']>=2007]\n",
    "interest_rate.head()\n",
    "'''"
   ]
  },
  {
   "cell_type": "code",
   "execution_count": 46,
   "metadata": {},
   "outputs": [
    {
     "data": {
      "text/plain": [
       "\"\\nfrom tqdm import tqdm\\nfor idx, row in tqdm(train.iterrows(), total = train.shape[0]):\\n    date = row['transaction_date2']\\n    rate = interest_rate[interest_rate['날짜'] <= date].iloc[0]['금리']\\n    train.loc[idx, 'interest_rate'] = rate\\n\""
      ]
     },
     "execution_count": 46,
     "metadata": {},
     "output_type": "execute_result"
    }
   ],
   "source": [
    "'''\n",
    "from tqdm import tqdm\n",
    "for idx, row in tqdm(train.iterrows(), total = train.shape[0]):\n",
    "    date = row['transaction_date2']\n",
    "    rate = interest_rate[interest_rate['날짜'] <= date].iloc[0]['금리']\n",
    "    train.loc[idx, 'interest_rate'] = rate\n",
    "'''"
   ]
  },
  {
   "cell_type": "code",
   "execution_count": null,
   "metadata": {},
   "outputs": [
    {
     "name": "stderr",
     "output_type": "stream",
     "text": [
      "100%|██████████| 364966/364966 [16:52<00:00, 360.54it/s]\n"
     ]
    }
   ],
   "source": [
    "'''\n",
    "from tqdm import tqdm\n",
    "for idx, row in tqdm(test.iterrows(), total = test.shape[0]):\n",
    "    date = row['transaction_date2']\n",
    "    rate = interest_rate[interest_rate['날짜'] <= date].iloc[0]['금리']\n",
    "    test.loc[idx, 'interest_rate'] = rate\n",
    "'''"
   ]
  },
  {
   "cell_type": "code",
   "execution_count": null,
   "metadata": {},
   "outputs": [],
   "source": [
    "'''\n",
    "train.drop(['transaction_date2','transaction_year','transaction_month','day'],axis=1, inplace=True)\n",
    "test.drop(['transaction_date2','transaction_year','transaction_month','day'],axis=1, inplace=True)\n",
    "'''"
   ]
  },
  {
   "cell_type": "code",
   "execution_count": null,
   "metadata": {},
   "outputs": [],
   "source": [
    "# train.to_csv('train_interest.csv', index=False)\n",
    "# test.to_csv('test_interest.csv', index=False)"
   ]
  },
  {
   "cell_type": "markdown",
   "metadata": {},
   "source": [
    "# 데이터 불러오기"
   ]
  },
  {
   "cell_type": "code",
   "execution_count": 2,
   "metadata": {},
   "outputs": [],
   "source": [
    "train=pd.read_csv(\"train_interest.csv\", encoding='utf-8') # 금리 feature 포함\n",
    "test =pd.read_csv(\"test_interest.csv\", encoding='utf-8') # 금리 feature 포함\n",
    "child=pd.read_csv(\"day_care_center.csv\", encoding='utf-8')\n",
    "park=pd.read_csv(\"park.csv\", encoding='utf-8')\n",
    "submission = pd.read_csv('submission.csv')"
   ]
  },
  {
   "cell_type": "markdown",
   "metadata": {},
   "source": [
    "# Feature Engineering"
   ]
  },
  {
   "cell_type": "markdown",
   "metadata": {},
   "source": [
    "### floor 전처리\n",
    "- 최소값이 -4이므로 4를 더해서 음수를 없앰"
   ]
  },
  {
   "cell_type": "code",
   "execution_count": 3,
   "metadata": {},
   "outputs": [],
   "source": [
    "train['floor'] = train['floor'].map(lambda x: x+4)\n",
    "test['floor'] = test['floor'].map(lambda x: x+4)"
   ]
  },
  {
   "cell_type": "markdown",
   "metadata": {},
   "source": [
    "### bucket_area\n",
    " - 아파트 면적 기준 그룹화"
   ]
  },
  {
   "cell_type": "code",
   "execution_count": 4,
   "metadata": {},
   "outputs": [
    {
     "data": {
      "text/plain": [
       "2    370993\n",
       "1    279988\n",
       "3    155373\n",
       "0     45233\n",
       "Name: bucket_area, dtype: int64"
      ]
     },
     "execution_count": 4,
     "metadata": {},
     "output_type": "execute_result"
    }
   ],
   "source": [
    "def make_area_bucket(area):\n",
    "    if area <= 40:\n",
    "        return 0\n",
    "    elif area < 60: # 59타입\n",
    "        return 1\n",
    "    elif area < 85: # 84타입\n",
    "        return 2\n",
    "    else:\n",
    "        return 3\n",
    "\n",
    "train['bucket_area'] = train['exclusive_use_area'].apply(make_area_bucket)\n",
    "test['bucket_area'] = test['exclusive_use_area'].apply(make_area_bucket)\n",
    "train['bucket_area'].value_counts()"
   ]
  },
  {
   "cell_type": "markdown",
   "metadata": {},
   "source": [
    "### new_area\n",
    "- 10단위로 새로운 면적 feature 생성"
   ]
  },
  {
   "cell_type": "code",
   "execution_count": 5,
   "metadata": {},
   "outputs": [
    {
     "data": {
      "text/plain": [
       "80     287186\n",
       "50     206660\n",
       "40      73328\n",
       "70      51664\n",
       "110     41330\n",
       "60      37622\n",
       "30      31151\n",
       "100     23419\n",
       "120     21991\n",
       "130     20197\n",
       "90      11160\n",
       "140     10591\n",
       "20       8507\n",
       "150      6439\n",
       "160      5976\n",
       "10       5574\n",
       "170      2857\n",
       "180      1712\n",
       "190      1177\n",
       "200       839\n",
       "240       754\n",
       "210       697\n",
       "230       331\n",
       "220       321\n",
       "250        55\n",
       "260        26\n",
       "270        18\n",
       "310         2\n",
       "280         1\n",
       "0           1\n",
       "420         1\n",
       "Name: new_area, dtype: int64"
      ]
     },
     "execution_count": 5,
     "metadata": {},
     "output_type": "execute_result"
    }
   ],
   "source": [
    "def make_new_area(area):\n",
    "    return (area//10)*10\n",
    "    \n",
    "\n",
    "train['new_area'] = train['exclusive_use_area'].apply(make_new_area)\n",
    "train['new_area'] = train['new_area'].astype(int)\n",
    "\n",
    "test['new_area'] = test['exclusive_use_area'].apply(make_new_area)\n",
    "test['new_area'] = test['new_area'].astype(int)\n",
    "\n",
    "train['new_area'].value_counts()"
   ]
  },
  {
   "cell_type": "markdown",
   "metadata": {},
   "source": [
    "### pyung_area\n",
    "- 아파트 평수"
   ]
  },
  {
   "cell_type": "code",
   "execution_count": 6,
   "metadata": {},
   "outputs": [],
   "source": [
    "train['pyung_area'] = train['exclusive_use_area'] * 0.3025\n",
    "test['pyung_area'] = test['exclusive_use_area'] * 0.3025"
   ]
  },
  {
   "cell_type": "markdown",
   "metadata": {},
   "source": [
    "### cluster\n",
    "- apartment_id 기준 군집화"
   ]
  },
  {
   "cell_type": "code",
   "execution_count": 7,
   "metadata": {},
   "outputs": [
    {
     "data": {
      "image/png": "[encoded data removed]",
      "text/plain": [
       "<Figure size 640x480 with 1 Axes>"
      ]
     },
     "metadata": {},
     "output_type": "display_data"
    }
   ],
   "source": [
    "from sklearn.cluster import KMeans\n",
    "from sklearn.metrics import silhouette_score\n",
    "\n",
    "# 아파트 아이디와 거래가격 데이터를 선택합니다.\n",
    "data = train[['apartment_id', 'transaction_real_price']]\n",
    "\n",
    "# 아파트 아이디로 그룹화한 후 평균을 구합니다.\n",
    "data = data.groupby(['apartment_id']).mean()\n",
    "\n",
    "# 거래가격을 numpy 배열로 변환하고 1차원으로 변경합니다.\n",
    "arr = data['transaction_real_price'].to_numpy().reshape(-1, 1)\n",
    "\n",
    "# Silhouette 계수를 계산하여 최적의 군집 개수를 찾습니다.\n",
    "silhouette_scores = []\n",
    "k_range = range(2, 11) \n",
    "for k in k_range:\n",
    "    kmeans = KMeans(n_clusters=k, n_init=10)\n",
    "    cluster_labels = kmeans.fit_predict(arr)\n",
    "    silhouette_scores.append(silhouette_score(arr, cluster_labels))\n",
    "\n",
    "# 최적의 군집 개수를 가진 인덱스를 찾습니다.\n",
    "optimal_k_index = silhouette_scores.index(max(silhouette_scores))\n",
    "optimal_k = k_range[optimal_k_index]\n",
    "\n",
    "# 최적의 k 지점에 빨간색 점선을 그립니다.\n",
    "plt.axvline(x=optimal_k, color='red', linestyle='--', label=f'Optimal k: {optimal_k}')\n",
    "\n",
    "# Silhouette 계수를 그래프로 표시합니다.\n",
    "plt.plot(k_range, silhouette_scores, marker='o')\n",
    "plt.xlabel('Number of Clusters (k)')\n",
    "plt.ylabel('Silhouette Score')\n",
    "plt.title('Silhouette Score for Optimal k')\n",
    "plt.xticks(k_range)\n",
    "plt.legend()\n",
    "plt.show()"
   ]
  },
  {
   "cell_type": "code",
   "execution_count": 8,
   "metadata": {},
   "outputs": [
    {
     "data": {
      "text/html": [
       "<div>\n",
       "<style scoped>\n",
       "    .dataframe tbody tr th:only-of-type {\n",
       "        vertical-align: middle;\n",
       "    }\n",
       "\n",
       "    .dataframe tbody tr th {\n",
       "        vertical-align: top;\n",
       "    }\n",
       "\n",
       "    .dataframe thead th {\n",
       "        text-align: right;\n",
       "    }\n",
       "</style>\n",
       "<table border=\"1\" class=\"dataframe\">\n",
       "  <thead>\n",
       "    <tr style=\"text-align: right;\">\n",
       "      <th></th>\n",
       "      <th>apartment_id</th>\n",
       "      <th>cluster</th>\n",
       "    </tr>\n",
       "  </thead>\n",
       "  <tbody>\n",
       "    <tr>\n",
       "      <th>0</th>\n",
       "      <td>0</td>\n",
       "      <td>0</td>\n",
       "    </tr>\n",
       "    <tr>\n",
       "      <th>1</th>\n",
       "      <td>1</td>\n",
       "      <td>0</td>\n",
       "    </tr>\n",
       "    <tr>\n",
       "      <th>2</th>\n",
       "      <td>2</td>\n",
       "      <td>1</td>\n",
       "    </tr>\n",
       "    <tr>\n",
       "      <th>3</th>\n",
       "      <td>3</td>\n",
       "      <td>0</td>\n",
       "    </tr>\n",
       "    <tr>\n",
       "      <th>4</th>\n",
       "      <td>4</td>\n",
       "      <td>0</td>\n",
       "    </tr>\n",
       "    <tr>\n",
       "      <th>...</th>\n",
       "      <td>...</td>\n",
       "      <td>...</td>\n",
       "    </tr>\n",
       "    <tr>\n",
       "      <th>12384</th>\n",
       "      <td>12654</td>\n",
       "      <td>0</td>\n",
       "    </tr>\n",
       "    <tr>\n",
       "      <th>12385</th>\n",
       "      <td>12655</td>\n",
       "      <td>0</td>\n",
       "    </tr>\n",
       "    <tr>\n",
       "      <th>12386</th>\n",
       "      <td>12656</td>\n",
       "      <td>1</td>\n",
       "    </tr>\n",
       "    <tr>\n",
       "      <th>12387</th>\n",
       "      <td>12657</td>\n",
       "      <td>1</td>\n",
       "    </tr>\n",
       "    <tr>\n",
       "      <th>12388</th>\n",
       "      <td>12658</td>\n",
       "      <td>1</td>\n",
       "    </tr>\n",
       "  </tbody>\n",
       "</table>\n",
       "<p>12389 rows × 2 columns</p>\n",
       "</div>"
      ],
      "text/plain": [
       "       apartment_id  cluster\n",
       "0                 0        0\n",
       "1                 1        0\n",
       "2                 2        1\n",
       "3                 3        0\n",
       "4                 4        0\n",
       "...             ...      ...\n",
       "12384         12654        0\n",
       "12385         12655        0\n",
       "12386         12656        1\n",
       "12387         12657        1\n",
       "12388         12658        1\n",
       "\n",
       "[12389 rows x 2 columns]"
      ]
     },
     "execution_count": 8,
     "metadata": {},
     "output_type": "execute_result"
    }
   ],
   "source": [
    "## 군집화 진행\n",
    "optimal_k =  2\n",
    "kmeans = KMeans(n_clusters=optimal_k, n_init=10)\n",
    "kmeans.fit(arr)\n",
    "\n",
    "# 가격을 기준으로 군집의 순서를 정렬하기 위해 인덱스를 추출\n",
    "sort_order = np.argsort(kmeans.cluster_centers_.flatten())\n",
    "\n",
    "# 군집화 결과를 가격 순서대로 재할당\n",
    "labels = np.zeros_like(kmeans.labels_)\n",
    "for i, cluster in enumerate(sort_order):\n",
    "    labels[kmeans.labels_ == cluster] = i\n",
    "\n",
    "# 군집화 결과와 가격을 데이터에 추가\n",
    "data['cluster'] = labels\n",
    "data = data.reset_index()\n",
    "data = data[['apartment_id', 'cluster']]\n",
    "data"
   ]
  },
  {
   "cell_type": "code",
   "execution_count": 9,
   "metadata": {},
   "outputs": [
    {
     "data": {
      "text/plain": [
       "0    772105\n",
       "1     79482\n",
       "Name: cluster, dtype: int64"
      ]
     },
     "execution_count": 9,
     "metadata": {},
     "output_type": "execute_result"
    }
   ],
   "source": [
    "train= pd.merge(train, data, how='left', left_on='apartment_id', right_on='apartment_id')\n",
    "train['cluster'].value_counts()"
   ]
  },
  {
   "cell_type": "code",
   "execution_count": 10,
   "metadata": {},
   "outputs": [
    {
     "data": {
      "text/plain": [
       "0.0    330862\n",
       "1.0     33885\n",
       "Name: cluster, dtype: int64"
      ]
     },
     "execution_count": 10,
     "metadata": {},
     "output_type": "execute_result"
    }
   ],
   "source": [
    "test = pd.merge(test, data, how='left', left_on='apartment_id', right_on='apartment_id')\n",
    "test['cluster'].value_counts()"
   ]
  },
  {
   "cell_type": "markdown",
   "metadata": {},
   "source": [
    "### gu\n",
    "- 자치구 feature 생성"
   ]
  },
  {
   "cell_type": "code",
   "execution_count": 11,
   "metadata": {},
   "outputs": [
    {
     "data": {
      "text/html": [
       "<div>\n",
       "<style scoped>\n",
       "    .dataframe tbody tr th:only-of-type {\n",
       "        vertical-align: middle;\n",
       "    }\n",
       "\n",
       "    .dataframe tbody tr th {\n",
       "        vertical-align: top;\n",
       "    }\n",
       "\n",
       "    .dataframe thead th {\n",
       "        text-align: right;\n",
       "    }\n",
       "</style>\n",
       "<table border=\"1\" class=\"dataframe\">\n",
       "  <thead>\n",
       "    <tr style=\"text-align: right;\">\n",
       "      <th></th>\n",
       "      <th>시도</th>\n",
       "      <th>시군구</th>\n",
       "      <th>법정동</th>\n",
       "    </tr>\n",
       "  </thead>\n",
       "  <tbody>\n",
       "    <tr>\n",
       "      <th>0</th>\n",
       "      <td>서울특별시</td>\n",
       "      <td>서울특별시</td>\n",
       "      <td>서울특별시</td>\n",
       "    </tr>\n",
       "    <tr>\n",
       "      <th>1</th>\n",
       "      <td>서울특별시</td>\n",
       "      <td>종로구</td>\n",
       "      <td>종로구</td>\n",
       "    </tr>\n",
       "    <tr>\n",
       "      <th>2</th>\n",
       "      <td>서울특별시</td>\n",
       "      <td>종로구</td>\n",
       "      <td>청운동</td>\n",
       "    </tr>\n",
       "    <tr>\n",
       "      <th>3</th>\n",
       "      <td>서울특별시</td>\n",
       "      <td>종로구</td>\n",
       "      <td>신교동</td>\n",
       "    </tr>\n",
       "    <tr>\n",
       "      <th>4</th>\n",
       "      <td>서울특별시</td>\n",
       "      <td>종로구</td>\n",
       "      <td>궁정동</td>\n",
       "    </tr>\n",
       "  </tbody>\n",
       "</table>\n",
       "</div>"
      ],
      "text/plain": [
       "      시도    시군구    법정동\n",
       "0  서울특별시  서울특별시  서울특별시\n",
       "1  서울특별시    종로구    종로구\n",
       "2  서울특별시    종로구    청운동\n",
       "3  서울특별시    종로구    신교동\n",
       "4  서울특별시    종로구    궁정동"
      ]
     },
     "execution_count": 11,
     "metadata": {},
     "output_type": "execute_result"
    }
   ],
   "source": [
    "region = pd.read_excel('행정구역분류_2023.10.1기준.xlsx')\n",
    "region = region[(region['시도'] == '서울특별시') | (region['시도'] == '부산광역시')]\n",
    "region = region[['시도','시군구','법정동']]\n",
    "region.head()"
   ]
  },
  {
   "cell_type": "code",
   "execution_count": 12,
   "metadata": {},
   "outputs": [],
   "source": [
    "# 읍과 리가 있는 경우 '리' 부분 제거\n",
    "train['dong'] = train['dong'].str.split(' ', expand=True).iloc[:, 0]\n",
    "test['dong'] = test['dong'].str.split(' ', expand=True).iloc[:, 0]"
   ]
  },
  {
   "cell_type": "code",
   "execution_count": 13,
   "metadata": {},
   "outputs": [],
   "source": [
    "# 자치구(gu) feature 생성\n",
    "mapping_dict = dict(zip(region['시도'] + region['법정동'], region['시군구']))\n",
    "\n",
    "train['gu'] = train['city'] + train['dong']\n",
    "train['gu'] = train['gu'].map(mapping_dict)\n",
    "train['gu'].fillna(0, inplace= True)\n",
    "\n",
    "test['gu'] = test['city'] + test['dong']\n",
    "test['gu'] = test['gu'].map(mapping_dict)\n",
    "test['gu'].fillna(0, inplace= True)"
   ]
  },
  {
   "cell_type": "markdown",
   "metadata": {},
   "source": [
    "### day"
   ]
  },
  {
   "cell_type": "code",
   "execution_count": 14,
   "metadata": {},
   "outputs": [],
   "source": [
    "train['day'] = train.transaction_date.apply(lambda x: x[-2:])\n",
    "del train['transaction_date']\n",
    "\n",
    "test['day'] = test.transaction_date.apply(lambda x: x[-2:])\n",
    "del test['transaction_date']"
   ]
  },
  {
   "cell_type": "markdown",
   "metadata": {},
   "source": [
    "### age\n",
    "- 아파트 나이"
   ]
  },
  {
   "cell_type": "code",
   "execution_count": 15,
   "metadata": {},
   "outputs": [],
   "source": [
    "train['age'] = 2017 - train['year_of_completion']\n",
    "train.drop('year_of_completion', axis=1, inplace=True)\n",
    "\n",
    "test['age'] = 2017 - test['year_of_completion']\n",
    "test.drop('year_of_completion', axis=1, inplace=True)"
   ]
  },
  {
   "cell_type": "markdown",
   "metadata": {},
   "source": [
    "### 공원수"
   ]
  },
  {
   "cell_type": "code",
   "execution_count": 16,
   "metadata": {},
   "outputs": [],
   "source": [
    "num_park_per_dong = park.groupby(['city', 'gu', 'dong'], as_index=False)['park_name'].count()\n",
    "num_park_per_dong.rename({'park_name':'공원수'}, axis=1, inplace=True)\n",
    "\n",
    "train = pd.merge(train, num_park_per_dong, left_on=['city', 'gu', 'dong'], right_on=['city', 'gu', 'dong'], how='left')\n",
    "train['공원수'].fillna(0, inplace= True)\n",
    "train.head()\n",
    "\n",
    "test = pd.merge(test, num_park_per_dong, left_on=['city', 'gu', 'dong'], right_on=['city', 'gu', 'dong'], how='left')\n",
    "test['공원수'].fillna(0, inplace=True)"
   ]
  },
  {
   "cell_type": "markdown",
   "metadata": {},
   "source": [
    "### 어린이집 수"
   ]
  },
  {
   "cell_type": "code",
   "execution_count": 17,
   "metadata": {},
   "outputs": [],
   "source": [
    "num_child_per_gu = child.groupby(['city', 'gu'], as_index=False)['day_care_name'].count()\n",
    "num_child_per_gu.rename({'day_care_name':'어린이집수'}, axis=1, inplace=True)\n",
    "\n",
    "train = pd.merge(train, num_child_per_gu, left_on=['city', 'gu'], right_on=['city', 'gu'], how='left')\n",
    "train['어린이집수'].fillna(0, inplace= True)\n",
    "train.head()\n",
    "\n",
    "test = pd.merge(test, num_child_per_gu, left_on=['city', 'gu'], right_on=['city', 'gu'], how='left')\n",
    "test['어린이집수'].fillna(0, inplace= True)"
   ]
  },
  {
   "cell_type": "markdown",
   "metadata": {},
   "source": [
    "### 지하철역 개수"
   ]
  },
  {
   "cell_type": "code",
   "execution_count": 18,
   "metadata": {},
   "outputs": [],
   "source": [
    "seoul_subway = pd.read_csv('서울지하철.csv', encoding='cp949')\n",
    "busan_subway = pd.read_csv(\"부산지하철.csv\", encoding='cp949')"
   ]
  },
  {
   "cell_type": "code",
   "execution_count": 19,
   "metadata": {},
   "outputs": [],
   "source": [
    "busan_subway = busan_subway[['역명', '도로명주소']]\n",
    "seoul_subway = seoul_subway[['역명', '도로명주소']]\n",
    "subway = pd.concat([busan_subway, seoul_subway])"
   ]
  },
  {
   "cell_type": "code",
   "execution_count": 20,
   "metadata": {},
   "outputs": [],
   "source": [
    "# 도로명주소에서 구 정보 추출\n",
    "subway['지하철역개수'] = subway['도로명주소'].apply(lambda x: x.split()[1])\n",
    "\n",
    "# 각 자치구에 속하는 지하철역 개수 세기\n",
    "subway_counts_by_gu = subway['지하철역개수'].value_counts()"
   ]
  },
  {
   "cell_type": "code",
   "execution_count": 21,
   "metadata": {},
   "outputs": [],
   "source": [
    "# 'gu' 컬럼을 기준으로 두 데이터프레임을 합침\n",
    "train = pd.merge(train, subway_counts_by_gu, how='left', left_on='gu', right_index=True)\n",
    "\n",
    "# 'gu' 컬럼을 기준으로 두 데이터프레임을 합침\n",
    "test = pd.merge(test, subway_counts_by_gu, how='left', left_on='gu', right_index=True)"
   ]
  },
  {
   "cell_type": "markdown",
   "metadata": {},
   "source": [
    "### top10\n",
    "- top 10 시공사 아파트 여부를 나타내는 feature 생성"
   ]
  },
  {
   "cell_type": "code",
   "execution_count": 22,
   "metadata": {},
   "outputs": [],
   "source": [
    "train['top10'] = 0\n",
    "test['top10'] = 0\n",
    "top10 = ['자이', '푸르지오', '더샵', '롯데캐슬', '이편한|e편한|e-편한',\n",
    "         '힐스테이트', '아이파크', '래미안', 'sk|SK|에스케이', '데시앙']\n",
    "\n",
    "train['apt'] = train['apt'].fillna('others')\n",
    "\n",
    "# top 10 시공사면 1, 아니면 0\n",
    "for i, brand in enumerate(top10):\n",
    "    train.loc[train['apt'].str.contains(brand), 'top10'] = 1\n",
    "    test.loc[test['apt'].str.contains(brand), 'top10'] = 1"
   ]
  },
  {
   "cell_type": "markdown",
   "metadata": {},
   "source": [
    "### apt 통일화 및 transformed feature 생성"
   ]
  },
  {
   "cell_type": "code",
   "execution_count": 23,
   "metadata": {},
   "outputs": [
    {
     "name": "stderr",
     "output_type": "stream",
     "text": [
      "100%|██████████| 35/35 [00:49<00:00,  1.41s/it]\n",
      "100%|██████████| 25/25 [00:00<00:00, 28.47it/s]\n"
     ]
    }
   ],
   "source": [
    "from tqdm import tqdm\n",
    "\n",
    "# 데이터에 많이 있는 아파트 대표 25개 리스트\n",
    "apt_names = ['그레이스', '양지', '쌍용', '현대', '한신', '삼성', '대우', '신동아', '두산', '주공',\n",
    "             '우성', '벽산', '동원로얄듀크','경남', '삼환', '쌍용', '삼익', '대림', '코오롱', '파크리오',\n",
    "             '엘지', '성원', '잠실', '동궁리치웰', '동성']\n",
    "# top 10 시공사 키워드와 25개 리스트를 통합\n",
    "apt_names_list = top10 + apt_names\n",
    "\n",
    "# `apt_names_list`의 키워드에 해당하는 아파트명이 있는지 여부를 나타내는 새로운 컬럼 생성\n",
    "train['transformed'] = False\n",
    "test['transformed'] = False\n",
    "\n",
    "# `apt_names_list`의 키워드에 아파트명이 포함되면 해당 키워드로 아파트명을 통일함\n",
    "# 그리고 `transformed` 컬럼값을 True로 변경\n",
    "for a in tqdm(apt_names_list):\n",
    "    train.loc[train['apt'].str.contains(a), 'apt'] = a\n",
    "    test.loc[test['apt'].str.contains(a), 'apt'] = a\n",
    "    train.loc[train['apt'].str.contains(a), 'transformed'] = True\n",
    "    test.loc[test['apt'].str.contains(a), 'transformed'] = True\n",
    "\n",
    "# 아파트 이름이 변경되지 않았을 경우(`transformed=False` 일 경우) 아파트명을 'others'로 변경\n",
    "for a in tqdm(apt_names):\n",
    "    train.loc[~train['transformed'], 'apt'] = 'others'\n",
    "    test.loc[~test['transformed'] , 'apt'] = 'others'"
   ]
  },
  {
   "cell_type": "markdown",
   "metadata": {},
   "source": [
    "# Encoding"
   ]
  },
  {
   "cell_type": "markdown",
   "metadata": {},
   "source": [
    "### dong 인코딩"
   ]
  },
  {
   "cell_type": "code",
   "execution_count": 24,
   "metadata": {},
   "outputs": [
    {
     "name": "stderr",
     "output_type": "stream",
     "text": [
      "100%|██████████| 460/460 [00:52<00:00,  8.82it/s]\n",
      "100%|██████████| 851587/851587 [00:11<00:00, 72998.04it/s] \n",
      "100%|██████████| 364966/364966 [00:03<00:00, 100137.64it/s]\n"
     ]
    }
   ],
   "source": [
    "from tqdm import tqdm\n",
    "import re\n",
    "\n",
    "# 가격기준으로 동을 정렬한 리스트를 바탕으로 dong에 대해 라벨 인코딩 진행 \n",
    "dong_price = train.groupby('dong')['transaction_real_price'].agg('mean').sort_values(ascending=False)\n",
    "\n",
    "from tqdm import tqdm\n",
    "for i, d in tqdm(enumerate(list(dong_price.index)), total=len(dong_price)):\n",
    "    try:\n",
    "        train.loc[train['dong'] == d, 'dong'] = i\n",
    "        test.loc[test['dong'] == d, 'dong'] = i\n",
    "    except KeyError:\n",
    "        new_index = len(dong_price)\n",
    "        dong_price.loc[d] = new_index\n",
    "        train.loc[train['dong'] == d, 'dong'] = new_index\n",
    "        test.loc[test['dong'] == d, 'dong'] = new_index\n",
    "\n",
    "test.loc[test['dong'] == '옥인동', 'dong'] = 48\n",
    "\n",
    "\n",
    "#괄호와 괄호안내용 제거\n",
    "regex = \"\\(.*\\)|\\s-\\s.*\"\n",
    "for i in tqdm(range(len(train))):\n",
    "   train.at[i, 'apt'] = re.sub(regex, '', train.at[i, 'apt'])\n",
    "for i in tqdm(range(len(test))):\n",
    "   test.at[i, 'apt'] = re.sub(regex, '', test.at[i, 'apt'])"
   ]
  },
  {
   "cell_type": "markdown",
   "metadata": {},
   "source": [
    "### city 인코딩"
   ]
  },
  {
   "cell_type": "code",
   "execution_count": 25,
   "metadata": {},
   "outputs": [],
   "source": [
    "train['city'] = train['city'].map(lambda x: 1 if x == '서울특별시' else 0)\n",
    "test['city'] = test['city'].map(lambda x: 1 if x == '서울특별시' else 0)"
   ]
  },
  {
   "cell_type": "markdown",
   "metadata": {},
   "source": [
    "### transformed 인코딩"
   ]
  },
  {
   "cell_type": "code",
   "execution_count": 26,
   "metadata": {},
   "outputs": [],
   "source": [
    "train['transformed'] = train['transformed'].map(lambda x: 1 if True else 0)\n",
    "test['transformed'] = test['transformed'].map(lambda x: 1 if True else 0)"
   ]
  },
  {
   "cell_type": "markdown",
   "metadata": {},
   "source": [
    "### transaction_year_month 인코딩"
   ]
  },
  {
   "cell_type": "code",
   "execution_count": 27,
   "metadata": {},
   "outputs": [
    {
     "name": "stdout",
     "output_type": "stream",
     "text": [
      "train 변환전\n",
      " [201309 201610 201112 201105 200909]\n",
      "test 변환전\n",
      " [200801 200802 200803 200804 200805]\n",
      "train 변환후\n",
      " [ 68 105  47  40  20]\n",
      "test 변환후\n",
      " [0 1 2 3 4]\n"
     ]
    }
   ],
   "source": [
    "from sklearn.preprocessing import  LabelEncoder\n",
    "\n",
    "# 연월 증가하는 순으로 라벨 인코딩\n",
    "print('train 변환전\\n', train['transaction_year_month'].unique()[:5])\n",
    "print('test 변환전\\n', test['transaction_year_month'].unique()[:5])\n",
    "\n",
    "le = LabelEncoder()\n",
    "\n",
    "train['transaction_year_month'] = le.fit_transform(train['transaction_year_month'])\n",
    "test['transaction_year_month'] = le.fit_transform(test['transaction_year_month'])\n",
    "\n",
    "print('train 변환후\\n', train['transaction_year_month'].unique()[:5])\n",
    "print('test 변환후\\n', test['transaction_year_month'].unique()[:5])"
   ]
  },
  {
   "cell_type": "markdown",
   "metadata": {},
   "source": [
    "### apt, gu 인코딩"
   ]
  },
  {
   "cell_type": "code",
   "execution_count": 28,
   "metadata": {},
   "outputs": [],
   "source": [
    "col = ['apt','gu']\n",
    "\n",
    "encoder = ce.BinaryEncoder()\n",
    "for c in col:\n",
    "    train_encoded = encoder.fit_transform(train[c])\n",
    "    test_encoded = encoder.transform(test[c])\n",
    "\n",
    "    train = pd.concat([train, train_encoded], axis=1)\n",
    "    test = pd.concat([test, test_encoded], axis=1)\n",
    "\n",
    "train.drop(col, axis=1, inplace=True)\n",
    "test.drop(col, axis=1, inplace=True)"
   ]
  },
  {
   "cell_type": "markdown",
   "metadata": {},
   "source": [
    "# 로그 변환"
   ]
  },
  {
   "cell_type": "markdown",
   "metadata": {},
   "source": [
    "### 가격 로그 변환 후 원래 가격 따로 저장"
   ]
  },
  {
   "cell_type": "code",
   "execution_count": 29,
   "metadata": {},
   "outputs": [
    {
     "data": {
      "text/html": [
       "<div>\n",
       "<style scoped>\n",
       "    .dataframe tbody tr th:only-of-type {\n",
       "        vertical-align: middle;\n",
       "    }\n",
       "\n",
       "    .dataframe tbody tr th {\n",
       "        vertical-align: top;\n",
       "    }\n",
       "\n",
       "    .dataframe thead th {\n",
       "        text-align: right;\n",
       "    }\n",
       "</style>\n",
       "<table border=\"1\" class=\"dataframe\">\n",
       "  <thead>\n",
       "    <tr style=\"text-align: right;\">\n",
       "      <th></th>\n",
       "      <th>transaction_id</th>\n",
       "      <th>apartment_id</th>\n",
       "      <th>city</th>\n",
       "      <th>dong</th>\n",
       "      <th>jibun</th>\n",
       "      <th>addr_kr</th>\n",
       "      <th>exclusive_use_area</th>\n",
       "      <th>transaction_year_month</th>\n",
       "      <th>floor</th>\n",
       "      <th>interest_rate</th>\n",
       "      <th>...</th>\n",
       "      <th>apt_3</th>\n",
       "      <th>apt_4</th>\n",
       "      <th>apt_5</th>\n",
       "      <th>gu_0</th>\n",
       "      <th>gu_1</th>\n",
       "      <th>gu_2</th>\n",
       "      <th>gu_3</th>\n",
       "      <th>gu_4</th>\n",
       "      <th>gu_5</th>\n",
       "      <th>log_price</th>\n",
       "    </tr>\n",
       "  </thead>\n",
       "  <tbody>\n",
       "    <tr>\n",
       "      <th>0</th>\n",
       "      <td>657299</td>\n",
       "      <td>2753</td>\n",
       "      <td>0</td>\n",
       "      <td>330</td>\n",
       "      <td>409</td>\n",
       "      <td>서대신동3가 409 대윤스위트</td>\n",
       "      <td>112.24</td>\n",
       "      <td>68</td>\n",
       "      <td>9</td>\n",
       "      <td>2.50</td>\n",
       "      <td>...</td>\n",
       "      <td>0</td>\n",
       "      <td>0</td>\n",
       "      <td>1</td>\n",
       "      <td>0</td>\n",
       "      <td>0</td>\n",
       "      <td>0</td>\n",
       "      <td>0</td>\n",
       "      <td>0</td>\n",
       "      <td>1</td>\n",
       "      <td>10.064798</td>\n",
       "    </tr>\n",
       "    <tr>\n",
       "      <th>1</th>\n",
       "      <td>796707</td>\n",
       "      <td>2631</td>\n",
       "      <td>0</td>\n",
       "      <td>351</td>\n",
       "      <td>245</td>\n",
       "      <td>대연동 245 대우그린1</td>\n",
       "      <td>59.99</td>\n",
       "      <td>105</td>\n",
       "      <td>11</td>\n",
       "      <td>1.25</td>\n",
       "      <td>...</td>\n",
       "      <td>0</td>\n",
       "      <td>1</td>\n",
       "      <td>0</td>\n",
       "      <td>0</td>\n",
       "      <td>0</td>\n",
       "      <td>0</td>\n",
       "      <td>0</td>\n",
       "      <td>1</td>\n",
       "      <td>0</td>\n",
       "      <td>9.741027</td>\n",
       "    </tr>\n",
       "    <tr>\n",
       "      <th>2</th>\n",
       "      <td>656264</td>\n",
       "      <td>6106</td>\n",
       "      <td>0</td>\n",
       "      <td>368</td>\n",
       "      <td>414-1</td>\n",
       "      <td>서대신동2가 414-1 새부산</td>\n",
       "      <td>60.26</td>\n",
       "      <td>47</td>\n",
       "      <td>9</td>\n",
       "      <td>3.25</td>\n",
       "      <td>...</td>\n",
       "      <td>0</td>\n",
       "      <td>0</td>\n",
       "      <td>1</td>\n",
       "      <td>0</td>\n",
       "      <td>0</td>\n",
       "      <td>0</td>\n",
       "      <td>0</td>\n",
       "      <td>0</td>\n",
       "      <td>1</td>\n",
       "      <td>8.922792</td>\n",
       "    </tr>\n",
       "    <tr>\n",
       "      <th>3</th>\n",
       "      <td>539545</td>\n",
       "      <td>11710</td>\n",
       "      <td>1</td>\n",
       "      <td>47</td>\n",
       "      <td>105-4</td>\n",
       "      <td>논현동 105-4 한진로즈힐</td>\n",
       "      <td>84.94</td>\n",
       "      <td>40</td>\n",
       "      <td>12</td>\n",
       "      <td>3.00</td>\n",
       "      <td>...</td>\n",
       "      <td>0</td>\n",
       "      <td>0</td>\n",
       "      <td>1</td>\n",
       "      <td>0</td>\n",
       "      <td>0</td>\n",
       "      <td>0</td>\n",
       "      <td>0</td>\n",
       "      <td>1</td>\n",
       "      <td>1</td>\n",
       "      <td>11.042938</td>\n",
       "    </tr>\n",
       "    <tr>\n",
       "      <th>4</th>\n",
       "      <td>188009</td>\n",
       "      <td>9460</td>\n",
       "      <td>1</td>\n",
       "      <td>252</td>\n",
       "      <td>273</td>\n",
       "      <td>하계동 273 장미(시영6)</td>\n",
       "      <td>54.29</td>\n",
       "      <td>20</td>\n",
       "      <td>13</td>\n",
       "      <td>2.00</td>\n",
       "      <td>...</td>\n",
       "      <td>0</td>\n",
       "      <td>0</td>\n",
       "      <td>1</td>\n",
       "      <td>0</td>\n",
       "      <td>0</td>\n",
       "      <td>0</td>\n",
       "      <td>1</td>\n",
       "      <td>0</td>\n",
       "      <td>0</td>\n",
       "      <td>10.110542</td>\n",
       "    </tr>\n",
       "  </tbody>\n",
       "</table>\n",
       "<p>5 rows × 34 columns</p>\n",
       "</div>"
      ],
      "text/plain": [
       "   transaction_id  apartment_id  city dong  jibun           addr_kr  \\\n",
       "0          657299          2753     0  330    409  서대신동3가 409 대윤스위트   \n",
       "1          796707          2631     0  351    245     대연동 245 대우그린1   \n",
       "2          656264          6106     0  368  414-1  서대신동2가 414-1 새부산   \n",
       "3          539545         11710     1   47  105-4   논현동 105-4 한진로즈힐   \n",
       "4          188009          9460     1  252    273   하계동 273 장미(시영6)   \n",
       "\n",
       "   exclusive_use_area  transaction_year_month  floor  interest_rate  ...  \\\n",
       "0              112.24                      68      9           2.50  ...   \n",
       "1               59.99                     105     11           1.25  ...   \n",
       "2               60.26                      47      9           3.25  ...   \n",
       "3               84.94                      40     12           3.00  ...   \n",
       "4               54.29                      20     13           2.00  ...   \n",
       "\n",
       "   apt_3  apt_4  apt_5  gu_0 gu_1  gu_2  gu_3  gu_4  gu_5  log_price  \n",
       "0      0      0      1     0    0     0     0     0     1  10.064798  \n",
       "1      0      1      0     0    0     0     0     1     0   9.741027  \n",
       "2      0      0      1     0    0     0     0     0     1   8.922792  \n",
       "3      0      0      1     0    0     0     0     1     1  11.042938  \n",
       "4      0      0      1     0    0     0     1     0     0  10.110542  \n",
       "\n",
       "[5 rows x 34 columns]"
      ]
     },
     "execution_count": 29,
     "metadata": {},
     "output_type": "execute_result"
    }
   ],
   "source": [
    "train['log_price'] = np.log1p(train['transaction_real_price'])\n",
    "real_price = train['transaction_real_price'] # 원래 가격\n",
    "train.drop('transaction_real_price', axis=1, inplace=True)\n",
    "train.head()"
   ]
  },
  {
   "cell_type": "markdown",
   "metadata": {},
   "source": [
    "### 면적 로그 변환 후 원래 면적 따로 저장"
   ]
  },
  {
   "cell_type": "code",
   "execution_count": 30,
   "metadata": {},
   "outputs": [
    {
     "data": {
      "text/html": [
       "<div>\n",
       "<style scoped>\n",
       "    .dataframe tbody tr th:only-of-type {\n",
       "        vertical-align: middle;\n",
       "    }\n",
       "\n",
       "    .dataframe tbody tr th {\n",
       "        vertical-align: top;\n",
       "    }\n",
       "\n",
       "    .dataframe thead th {\n",
       "        text-align: right;\n",
       "    }\n",
       "</style>\n",
       "<table border=\"1\" class=\"dataframe\">\n",
       "  <thead>\n",
       "    <tr style=\"text-align: right;\">\n",
       "      <th></th>\n",
       "      <th>transaction_id</th>\n",
       "      <th>apartment_id</th>\n",
       "      <th>city</th>\n",
       "      <th>dong</th>\n",
       "      <th>jibun</th>\n",
       "      <th>addr_kr</th>\n",
       "      <th>transaction_year_month</th>\n",
       "      <th>floor</th>\n",
       "      <th>interest_rate</th>\n",
       "      <th>bucket_area</th>\n",
       "      <th>...</th>\n",
       "      <th>apt_4</th>\n",
       "      <th>apt_5</th>\n",
       "      <th>gu_0</th>\n",
       "      <th>gu_1</th>\n",
       "      <th>gu_2</th>\n",
       "      <th>gu_3</th>\n",
       "      <th>gu_4</th>\n",
       "      <th>gu_5</th>\n",
       "      <th>log_price</th>\n",
       "      <th>log_area</th>\n",
       "    </tr>\n",
       "  </thead>\n",
       "  <tbody>\n",
       "    <tr>\n",
       "      <th>0</th>\n",
       "      <td>657299</td>\n",
       "      <td>2753</td>\n",
       "      <td>0</td>\n",
       "      <td>330</td>\n",
       "      <td>409</td>\n",
       "      <td>서대신동3가 409 대윤스위트</td>\n",
       "      <td>68</td>\n",
       "      <td>9</td>\n",
       "      <td>2.50</td>\n",
       "      <td>3</td>\n",
       "      <td>...</td>\n",
       "      <td>0</td>\n",
       "      <td>1</td>\n",
       "      <td>0</td>\n",
       "      <td>0</td>\n",
       "      <td>0</td>\n",
       "      <td>0</td>\n",
       "      <td>0</td>\n",
       "      <td>1</td>\n",
       "      <td>10.064798</td>\n",
       "      <td>4.729509</td>\n",
       "    </tr>\n",
       "    <tr>\n",
       "      <th>1</th>\n",
       "      <td>796707</td>\n",
       "      <td>2631</td>\n",
       "      <td>0</td>\n",
       "      <td>351</td>\n",
       "      <td>245</td>\n",
       "      <td>대연동 245 대우그린1</td>\n",
       "      <td>105</td>\n",
       "      <td>11</td>\n",
       "      <td>1.25</td>\n",
       "      <td>1</td>\n",
       "      <td>...</td>\n",
       "      <td>1</td>\n",
       "      <td>0</td>\n",
       "      <td>0</td>\n",
       "      <td>0</td>\n",
       "      <td>0</td>\n",
       "      <td>0</td>\n",
       "      <td>1</td>\n",
       "      <td>0</td>\n",
       "      <td>9.741027</td>\n",
       "      <td>4.110710</td>\n",
       "    </tr>\n",
       "    <tr>\n",
       "      <th>2</th>\n",
       "      <td>656264</td>\n",
       "      <td>6106</td>\n",
       "      <td>0</td>\n",
       "      <td>368</td>\n",
       "      <td>414-1</td>\n",
       "      <td>서대신동2가 414-1 새부산</td>\n",
       "      <td>47</td>\n",
       "      <td>9</td>\n",
       "      <td>3.25</td>\n",
       "      <td>2</td>\n",
       "      <td>...</td>\n",
       "      <td>0</td>\n",
       "      <td>1</td>\n",
       "      <td>0</td>\n",
       "      <td>0</td>\n",
       "      <td>0</td>\n",
       "      <td>0</td>\n",
       "      <td>0</td>\n",
       "      <td>1</td>\n",
       "      <td>8.922792</td>\n",
       "      <td>4.115127</td>\n",
       "    </tr>\n",
       "    <tr>\n",
       "      <th>3</th>\n",
       "      <td>539545</td>\n",
       "      <td>11710</td>\n",
       "      <td>1</td>\n",
       "      <td>47</td>\n",
       "      <td>105-4</td>\n",
       "      <td>논현동 105-4 한진로즈힐</td>\n",
       "      <td>40</td>\n",
       "      <td>12</td>\n",
       "      <td>3.00</td>\n",
       "      <td>2</td>\n",
       "      <td>...</td>\n",
       "      <td>0</td>\n",
       "      <td>1</td>\n",
       "      <td>0</td>\n",
       "      <td>0</td>\n",
       "      <td>0</td>\n",
       "      <td>0</td>\n",
       "      <td>1</td>\n",
       "      <td>1</td>\n",
       "      <td>11.042938</td>\n",
       "      <td>4.453649</td>\n",
       "    </tr>\n",
       "    <tr>\n",
       "      <th>4</th>\n",
       "      <td>188009</td>\n",
       "      <td>9460</td>\n",
       "      <td>1</td>\n",
       "      <td>252</td>\n",
       "      <td>273</td>\n",
       "      <td>하계동 273 장미(시영6)</td>\n",
       "      <td>20</td>\n",
       "      <td>13</td>\n",
       "      <td>2.00</td>\n",
       "      <td>1</td>\n",
       "      <td>...</td>\n",
       "      <td>0</td>\n",
       "      <td>1</td>\n",
       "      <td>0</td>\n",
       "      <td>0</td>\n",
       "      <td>0</td>\n",
       "      <td>1</td>\n",
       "      <td>0</td>\n",
       "      <td>0</td>\n",
       "      <td>10.110542</td>\n",
       "      <td>4.012592</td>\n",
       "    </tr>\n",
       "  </tbody>\n",
       "</table>\n",
       "<p>5 rows × 34 columns</p>\n",
       "</div>"
      ],
      "text/plain": [
       "   transaction_id  apartment_id  city dong  jibun           addr_kr  \\\n",
       "0          657299          2753     0  330    409  서대신동3가 409 대윤스위트   \n",
       "1          796707          2631     0  351    245     대연동 245 대우그린1   \n",
       "2          656264          6106     0  368  414-1  서대신동2가 414-1 새부산   \n",
       "3          539545         11710     1   47  105-4   논현동 105-4 한진로즈힐   \n",
       "4          188009          9460     1  252    273   하계동 273 장미(시영6)   \n",
       "\n",
       "   transaction_year_month  floor  interest_rate  bucket_area  ...  apt_4  \\\n",
       "0                      68      9           2.50            3  ...      0   \n",
       "1                     105     11           1.25            1  ...      1   \n",
       "2                      47      9           3.25            2  ...      0   \n",
       "3                      40     12           3.00            2  ...      0   \n",
       "4                      20     13           2.00            1  ...      0   \n",
       "\n",
       "   apt_5  gu_0 gu_1  gu_2  gu_3  gu_4  gu_5  log_price  log_area  \n",
       "0      1     0    0     0     0     0     1  10.064798  4.729509  \n",
       "1      0     0    0     0     0     1     0   9.741027  4.110710  \n",
       "2      1     0    0     0     0     0     1   8.922792  4.115127  \n",
       "3      1     0    0     0     0     1     1  11.042938  4.453649  \n",
       "4      1     0    0     0     1     0     0  10.110542  4.012592  \n",
       "\n",
       "[5 rows x 34 columns]"
      ]
     },
     "execution_count": 30,
     "metadata": {},
     "output_type": "execute_result"
    }
   ],
   "source": [
    "train['log_area'] = np.log1p(train['exclusive_use_area'])\n",
    "test['log_area'] = np.log1p(test['exclusive_use_area'])\n",
    "area = train['exclusive_use_area'] \n",
    "train.drop('exclusive_use_area', axis=1, inplace=True)\n",
    "test.drop('exclusive_use_area', axis=1, inplace=True)\n",
    "train.head()"
   ]
  },
  {
   "cell_type": "code",
   "execution_count": 31,
   "metadata": {},
   "outputs": [
    {
     "name": "stdout",
     "output_type": "stream",
     "text": [
      "<class 'pandas.core.frame.DataFrame'>\n",
      "Int64Index: 851587 entries, 0 to 851586\n",
      "Data columns (total 34 columns):\n",
      " #   Column                  Non-Null Count   Dtype  \n",
      "---  ------                  --------------   -----  \n",
      " 0   transaction_id          851587 non-null  int64  \n",
      " 1   apartment_id            851587 non-null  int64  \n",
      " 2   city                    851587 non-null  int64  \n",
      " 3   dong                    851587 non-null  int64  \n",
      " 4   jibun                   851587 non-null  object \n",
      " 5   addr_kr                 851587 non-null  object \n",
      " 6   transaction_year_month  851587 non-null  int64  \n",
      " 7   floor                   851587 non-null  int64  \n",
      " 8   interest_rate           851587 non-null  float64\n",
      " 9   bucket_area             851587 non-null  int64  \n",
      " 10  new_area                851587 non-null  int32  \n",
      " 11  pyung_area              851587 non-null  float64\n",
      " 12  cluster                 851587 non-null  int32  \n",
      " 13  day                     851587 non-null  int64  \n",
      " 14  age                     851587 non-null  int64  \n",
      " 15  공원수                     851587 non-null  float64\n",
      " 16  어린이집수                   851587 non-null  float64\n",
      " 17  지하철역개수                  842887 non-null  float64\n",
      " 18  top10                   851587 non-null  int64  \n",
      " 19  transformed             851587 non-null  int64  \n",
      " 20  apt_0                   851587 non-null  int64  \n",
      " 21  apt_1                   851587 non-null  int64  \n",
      " 22  apt_2                   851587 non-null  int64  \n",
      " 23  apt_3                   851587 non-null  int64  \n",
      " 24  apt_4                   851587 non-null  int64  \n",
      " 25  apt_5                   851587 non-null  int64  \n",
      " 26  gu_0                    851587 non-null  int64  \n",
      " 27  gu_1                    851587 non-null  int64  \n",
      " 28  gu_2                    851587 non-null  int64  \n",
      " 29  gu_3                    851587 non-null  int64  \n",
      " 30  gu_4                    851587 non-null  int64  \n",
      " 31  gu_5                    851587 non-null  int64  \n",
      " 32  log_price               851587 non-null  float64\n",
      " 33  log_area                851587 non-null  float64\n",
      "dtypes: float64(7), int32(2), int64(23), object(2)\n",
      "memory usage: 253.2+ MB\n"
     ]
    }
   ],
   "source": [
    "train['day'] = train['day'].astype('int64')\n",
    "test['day'] = test['day'].astype('int64')\n",
    "train['dong'] = train['dong'].astype('int64')\n",
    "test['dong'] = test['dong'].astype('int64')\n",
    "train.info()"
   ]
  },
  {
   "cell_type": "markdown",
   "metadata": {},
   "source": [
    "### train, test 결측치 0으로 처리\n",
    "- cluster, 지하철역개수"
   ]
  },
  {
   "cell_type": "code",
   "execution_count": 32,
   "metadata": {},
   "outputs": [],
   "source": [
    "train.fillna(0, inplace=True)\n",
    "test.fillna(0, inplace=True)"
   ]
  },
  {
   "cell_type": "markdown",
   "metadata": {},
   "source": [
    "### 불필요하다고 판단한 feature 삭제"
   ]
  },
  {
   "cell_type": "code",
   "execution_count": 33,
   "metadata": {},
   "outputs": [],
   "source": [
    "train.drop(['transaction_id','apartment_id','jibun','addr_kr'],axis=1, inplace=True)\n",
    "test.drop(['transaction_id','apartment_id','jibun','addr_kr'],axis=1, inplace=True)"
   ]
  },
  {
   "cell_type": "markdown",
   "metadata": {},
   "source": [
    "# 데이터 분할"
   ]
  },
  {
   "cell_type": "code",
   "execution_count": 34,
   "metadata": {},
   "outputs": [],
   "source": [
    "X,y= train_X, train_y = train.drop('log_price', axis=1), train['log_price']\n",
    "\n",
    "from sklearn.model_selection import train_test_split\n",
    "\n",
    "X_train, X_test, y_train, y_test = train_test_split(X, y, test_size=0.2, random_state=42) "
   ]
  },
  {
   "cell_type": "markdown",
   "metadata": {},
   "source": [
    "# RandomForestRegressor"
   ]
  },
  {
   "cell_type": "code",
   "execution_count": 35,
   "metadata": {},
   "outputs": [
    {
     "name": "stdout",
     "output_type": "stream",
     "text": [
      "0.08995829580857266\n"
     ]
    }
   ],
   "source": [
    "from sklearn.ensemble import RandomForestRegressor\n",
    "from sklearn.metrics import mean_squared_error\n",
    "\n",
    "rf = RandomForestRegressor(random_state=42)\n",
    "\n",
    "rf.fit(X_train, y_train)\n",
    "\n",
    "y_pred = rf.predict(X_test)\n",
    "\n",
    "mse = mean_squared_error(y_test, y_pred)\n",
    "\n",
    "rmse = np.sqrt(mse)\n",
    "\n",
    "print(rmse)"
   ]
  },
  {
   "cell_type": "code",
   "execution_count": 37,
   "metadata": {},
   "outputs": [],
   "source": [
    "predict = rf.predict(test)\n",
    "predict_final = np.expm1(predict)\n",
    "\n",
    "submission = pd.read_csv('submission.csv')\n",
    "\n",
    "sub_df = pd.DataFrame({'transaction_id': submission['transaction_id'], 'transaction_real_price': predict_final})\n",
    "sub_df.to_csv('sub_rf.csv', index=False)"
   ]
  },
  {
   "cell_type": "markdown",
   "metadata": {},
   "source": [
    "# 하이퍼파라미터 튜닝"
   ]
  },
  {
   "cell_type": "code",
   "execution_count": 38,
   "metadata": {},
   "outputs": [],
   "source": [
    "rf_params_grid ={\n",
    "    'n_estimators':[100,150,200,250],\n",
    "    'max_depth':[10,20,25],\n",
    "    'max_features': [0.33,1],\n",
    "    'n_jobs':[-1]\n",
    "    }"
   ]
  },
  {
   "cell_type": "code",
   "execution_count": 41,
   "metadata": {},
   "outputs": [
    {
     "name": "stdout",
     "output_type": "stream",
     "text": [
      "0.08805205776664891\n"
     ]
    }
   ],
   "source": [
    "rf_grid_cv = GridSearchCV(rf, param_grid=rf_params_grid, cv=3, scoring='neg_root_mean_squared_error')\n",
    "rf_grid_cv.fit(X_train, y_train)\n",
    "y_pred = rf_grid_cv.predict(X_test)\n",
    "mse = mean_squared_error(y_test, y_pred)\n",
    "rmse = np.sqrt(mse)\n",
    "print(rmse)"
   ]
  },
  {
   "cell_type": "code",
   "execution_count": 42,
   "metadata": {},
   "outputs": [
    {
     "name": "stdout",
     "output_type": "stream",
     "text": [
      "best score : 0.09434218271848145\n",
      "best parameters : {'max_depth': 25, 'max_features': 0.33, 'n_estimators': 250, 'n_jobs': -1}\n",
      "best estimator : RandomForestRegressor(max_depth=25, max_features=0.33, n_estimators=250,\n",
      "                      n_jobs=-1, random_state=42)\n"
     ]
    }
   ],
   "source": [
    "print('best score :', -rf_grid_cv.best_score_)\n",
    "print('best parameters :', rf_grid_cv.best_params_)\n",
    "print('best estimator :', rf_grid_cv.best_estimator_ )"
   ]
  },
  {
   "cell_type": "code",
   "execution_count": 43,
   "metadata": {},
   "outputs": [],
   "source": [
    "predict = rf_grid_cv.predict(test)\n",
    "predict_final = np.expm1(predict)\n",
    "\n",
    "submission = pd.read_csv('submission.csv')\n",
    "\n",
    "sub_df = pd.DataFrame({'transaction_id': submission['transaction_id'], 'transaction_real_price': predict_final})\n",
    "sub_df.to_csv('sub_rf_tuning.csv', index=False)"
   ]
  }
 ],
 "metadata": {
  "kernelspec": {
   "display_name": "Python 3 (ipykernel)",
   "language": "python",
   "name": "python3"
  },
  "language_info": {
   "codemirror_mode": {
    "name": "ipython",
    "version": 3
   },
   "file_extension": ".py",
   "mimetype": "text/x-python",
   "name": "python",
   "nbconvert_exporter": "python",
   "pygments_lexer": "ipython3",
   "version": "3.9.12"
  }
 },
 "nbformat": 4,
 "nbformat_minor": 2
}
